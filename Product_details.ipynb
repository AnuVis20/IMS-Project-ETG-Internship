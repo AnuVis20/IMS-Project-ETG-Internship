{
 "cells": [
  {
   "cell_type": "markdown",
   "id": "84b8f8ea",
   "metadata": {},
   "source": [
    "# Part 1 of the Project\n",
    "\n",
    "### Objective: Make the dictionary of product details and then convert it into json file<hr>"
   ]
  },
  {
   "cell_type": "code",
   "execution_count": 2,
   "id": "0a9af16e",
   "metadata": {},
   "outputs": [],
   "source": [
    " product_details = {\n",
    "            '11001' :  {\"product_name\": \"Paracetamol\",\"expiry\":\"12-09-2022\", \"price\":40, \"category\": \"OTC-Drug\" ,\"quantity\":100},\n",
    "            '11002':   {\"product_name\":\"Dettol\", \"expiry\":\"04-05-2023\",\"price\": 100,\"category\": \"Disinfectant\" ,\"quantity\":50},\n",
    "            '11003':   {\"product_name\":\"Protein powder\" , \"expiry\":\"19-01-2022\",\"price\":567,\"category\": \"Supplement\" ,\"quantity\":47},\n",
    "            '11004':   {\"product_name\": \"Dettol Sanitizer\", \"expiry\":\"21-06-2023\",\"price\":78,\"category\": \"Disinfectant\", \"quantity\":100},\n",
    "            '11005':   {\"product_name\": \"Thermometer\", \"expiry\":\"NA\",\"price\":325,\"category\": \"Instrument\",\"quantity\":30},\n",
    "            '11006':   {\"product_name\": \"GluconD\", \"expiry\":\"15-03-2023\",\"price\":68,\"category\": \"Energy powder\",\"quantity\":55},\n",
    "            '11007':   {\"product_name\": \"Vicks Inhaler\", \"expiry\":\"01-01-2023\",\"price\":50,\"category\": \"OTC-Drug\" ,\"quantity\":150},\n",
    "            '11008':   {\"product_name\": \"Sanitary pads\", \"expiry\":\"19-09-2023\",\"price\":200,\"category\": \"Essentials\",\"quantity\":80},\n",
    "            '11009':   {\"product_name\": \"Cough syrup\", \"expiry\":\"08-12-2021\",\"price\":120,\"category\": \"OTC-Drug\" ,\"quantity\":66},\n",
    "            '110010':  {\"product_name\": \"Disprin\", \"expiry\":\"22-02-2023\",\"price\":20,\"category\": \"OTC-Drug\", \"quantity\":70},\n",
    "            '110011':  {\"product_name\": \"Kit-kat\",\"expiry\":\"12-09-2022\", \"price\":20, \"category\": \"Chocolate\" ,\"quantity\":200},\n",
    "            '110012':  {\"product_name\": \"Harpic\", \"expiry\":\"04-05-2023\",\"price\": 90,\"category\": \"Cleaner\" ,\"quantity\":100},\n",
    "            '110013':  {\"product_name\":\"Mortine Spray\" , \"expiry\":\"19-01-2023\",\"price\":134,\"category\": \"Cleaner\" ,\"quantity\":124},\n",
    "            '110014':  {\"product_name\": \"Pears\", \"expiry\":\"21-06-2024\",\"price\":45,\"category\": \"Soap\", \"quantity\":100},\n",
    "            '110015':  {\"product_name\": \"Dove\", \"expiry\":\"01-01-2022\",\"price\":56,\"category\": \"Soap\",\"quantity\":130},\n",
    "            '110016':  {\"product_name\": \"Lifeboy\", \"expiry\":\"15-03-2023\",\"price\":30,\"category\": \"Soap\",\"quantity\":155},\n",
    "            '110017':  {\"product_name\": \"Herbal Bar\", \"expiry\":\"01-01-2023\",\"price\":50,\"category\": \"Soap\" ,\"quantity\":150},\n",
    "            '110018':  {\"product_name\": \"Pantanjali Shampoo\", \"expiry\":\"19-09-2023\",\"price\":100,\"category\": \"Shampoo\",\"quantity\":180},\n",
    "            '110019':  {\"product_name\": \"Mamaearth Hair Care\", \"expiry\":\"08-12-2021\",\"price\":220,\"category\": \"Shampoo\" ,\"quantity\":106},\n",
    "            '110020':  {\"product_name\": \"Loreal\", \"expiry\":\"22-02-2023\",\"price\":190,\"category\": \"Shampoo\", \"quantity\":100},\n",
    "            '110021':  {\"product_name\": \"Panteen\",\"expiry\":\"12-09-2022\", \"price\":140, \"category\": \"Shampoo\" ,\"quantity\":100},\n",
    "            '110022':  {\"product_name\":\"Dove Shampoo\", \"expiry\":\"04-05-2023\",\"price\": 197,\"category\": \"Shampoo\" ,\"quantity\":150},\n",
    "            '110023':  {\"product_name\":\"Parle G\" , \"expiry\":\"19-01-2022\",\"price\":20,\"category\": \"Biscult\" ,\"quantity\":147},\n",
    "            '110024':  {\"product_name\": \"Cadbury Oreo\", \"expiry\":\"21-06-2023\",\"price\":30,\"category\": \"Biscult\", \"quantity\":100},\n",
    "            '110025':  {\"product_name\": \"Unibic Choco Chip Cookies\", \"expiry\":\"21-09-22\",\"price\":85,\"category\": \"Biscult\",\"quantity\":130},\n",
    "            '110026':  {\"product_name\": \"Sunfeast Cream Biscuits\", \"expiry\":\"15-03-2023\",\"price\":28,\"category\": \"Biscult\",\"quantity\":55},\n",
    "            '110027':  {\"product_name\": \"Priya Gold Biscuit\", \"expiry\":\"01-01-2023\",\"price\":30,\"category\": \"Biscult\" ,\"quantity\":150},\n",
    "            '110028':  {\"product_name\": \"Coke\", \"expiry\":\"19-09-2023\",\"price\":60,\"category\": \"Cold Drinks\",\"quantity\":100},\n",
    "            '110029':  {\"product_name\": \"Fruity\", \"expiry\":\"08-12-2021\",\"price\":60,\"category\": \"Cold Drinks\" ,\"quantity\":100},\n",
    "            '110030':  {\"product_name\": \"Fanta\", \"expiry\":\"22-02-2023\",\"price\":60,\"category\": \"Cold Drinks\", \"quantity\":100},    \n",
    "            '110031':  {\"product_name\": \"Swiss cheese\",\"expiry\":\"12-09-2022\", \"price\":340, \"category\": \"Cheese\" ,\"quantity\":100},\n",
    "            '110032':  {\"product_name\":  \"Parmesan\", \"expiry\":\"04-05-2023\",\"price\": 300,\"category\": \"Cheese\" ,\"quantity\":50},\n",
    "            '110033':  {\"product_name\": \"Cheddar\" , \"expiry\":\"19-01-2022\",\"price\":367,\"category\": \"Cheese\" ,\"quantity\":47},\n",
    "            '110034':  {\"product_name\": \"Mozzarella\", \"expiry\":\"21-06-2023\",\"price\":278,\"category\": \"Cheese\", \"quantity\":100},\n",
    "            '110035':  {\"product_name\": \"Roquefort\", \"expiry\":\"12-09-2022\",\"price\":325,\"category\": \"Cheese\",\"quantity\":30},\n",
    "            '110036':  {\"product_name\": \"Knoor\", \"expiry\":\"15-03-2023\",\"price\":48,\"category\": \"Soups\",\"quantity\":55},\n",
    "            '110037':  {\"product_name\": \"Hot garlic\", \"expiry\":\"01-01-2023\",\"price\":50,\"category\": \"Soups\" ,\"quantity\":150},\n",
    "            '110038':  {\"product_name\": \"Maggie\", \"expiry\":\"19-09-2023\",\"price\":90,\"category\": \"Noodless\",\"quantity\":80},\n",
    "            '110039':  {\"product_name\": \"Sunfeast Yippee Noodles\", \"expiry\":\"08-12-2021\",\"price\":90,\"category\": \"Noodles\" ,\"quantity\":66},\n",
    "            '110040':  {\"product_name\": \"Top Ramen\", \"expiry\":\"22-02-2023\",\"price\":90,\"category\": \"Noodles\", \"quantity\":70},          \n",
    "            '110041':  {\"product_name\": \"Ground pepper\",\"expiry\":\"12-09-2022\", \"price\":45, \"category\": \"Seasoning and spices\",\"quantity\":150},\n",
    "            '110042':  {\"product_name\":\"Chili pepper\", \"expiry\":\"04-05-2023\",\"price\": 40,\"category\": \"Seasoning and spices\" ,\"quantity\":150},\n",
    "            '110043':  {\"product_name\":\"Parsley\" , \"expiry\":\"19-01-2022\",\"price\":67,\"category\": \"Seasoning and spices\",\"quantity\":147},\n",
    "            '110044':  {\"product_name\": \"Basil\", \"expiry\":\"21-06-2023\",\"price\":58,\"category\": \"Seasoning and spices\", \"quantity\":100},\n",
    "            '110045':  {\"product_name\": \"Lemon peel\", \"expiry\":\"12-09-2022\",\"price\":105,\"category\": \"Seasoning and spices\",\"quantity\":130},\n",
    "            '110046':  {\"product_name\": \"Oregano\", \"expiry\":\"15-03-2023\",\"price\":68,\"category\": \"Seasoning and spices\",\"quantity\":155},\n",
    "            '110047':  {\"product_name\": \"Sea Salt\", \"expiry\":\"01-01-2023\",\"price\":50,\"category\": \"Seasoning and spices\",\"quantity\":150},\n",
    "            '110048':  {\"product_name\": \"Thyme\", \"expiry\":\"19-09-2023\",\"price\":80,\"category\": \"Seasoning and spices\",\"quantity\":60},\n",
    "            '110049':  {\"product_name\": \"Garlic powder\", \"expiry\":\"08-12-2021\",\"price\":120,\"category\": \"Seasoning and spices\",\"quantity\":166},\n",
    "            '110050':  {\"product_name\": \"Cardamom\", \"expiry\":\"22-02-2023\",\"price\":120,\"category\": \"Seasoning and spices\",\"quantity\":170}\n",
    "        }"
   ]
  },
  {
   "cell_type": "code",
   "execution_count": 3,
   "id": "5d8b557b",
   "metadata": {},
   "outputs": [],
   "source": [
    "product_detail = product_details.copy()"
   ]
  },
  {
   "cell_type": "code",
   "execution_count": 4,
   "id": "f5a1531a",
   "metadata": {},
   "outputs": [
    {
     "name": "stdout",
     "output_type": "stream",
     "text": [
      "{'product_name': 'Paracetamol', 'expiry': '12-09-2022', 'price': 40, 'category': 'OTC-Drug', 'quantity': 100}\n"
     ]
    }
   ],
   "source": [
    "print(product_detail['11001'])"
   ]
  },
  {
   "cell_type": "code",
   "execution_count": 5,
   "id": "56c7390b",
   "metadata": {},
   "outputs": [
    {
     "name": "stdout",
     "output_type": "stream",
     "text": [
      "Product Name:  Cardamom\n",
      "Category:      Seasoning and spices\n",
      "Expiry:        22-02-2023\n",
      "Price:         120\n"
     ]
    }
   ],
   "source": [
    "product_id = '110050'\n",
    "print(\"Product Name: \",product_detail[product_id]['product_name'])\n",
    "print(\"Category:     \",product_detail[product_id][\"category\"])\n",
    "print(\"Expiry:       \",product_detail[product_id][\"expiry\"])\n",
    "print(\"Price:        \",product_detail[product_id][\"price\"])"
   ]
  },
  {
   "cell_type": "code",
   "execution_count": 6,
   "id": "f4aae3d3",
   "metadata": {},
   "outputs": [],
   "source": [
    "import json"
   ]
  },
  {
   "cell_type": "code",
   "execution_count": 7,
   "id": "73c745dc",
   "metadata": {},
   "outputs": [],
   "source": [
    "js = json.dumps(product_detail)      "
   ]
  },
  {
   "cell_type": "code",
   "execution_count": 8,
   "id": "c79c40be",
   "metadata": {},
   "outputs": [],
   "source": [
    "fd = open(\"Record.json\",\"w\")\n",
    "fd.write(js)\n",
    "fd.close()"
   ]
  },
  {
   "cell_type": "code",
   "execution_count": 9,
   "id": "fe7e83d4",
   "metadata": {},
   "outputs": [],
   "source": [
    "fh = open(\"Record.json\",\"r\")\n",
    "txt = fh.read()\n",
    "fh.close()"
   ]
  },
  {
   "cell_type": "code",
   "execution_count": 10,
   "id": "046e6aae",
   "metadata": {},
   "outputs": [
    {
     "name": "stdout",
     "output_type": "stream",
     "text": [
      "{\"11001\": {\"product_name\": \"Paracetamol\", \"expiry\": \"12-09-2022\", \"price\": 40, \"category\": \"OTC-Drug\", \"quantity\": 100}, \"11002\": {\"product_name\": \"Dettol\", \"expiry\": \"04-05-2023\", \"price\": 100, \"category\": \"Disinfectant\", \"quantity\": 50}, \"11003\": {\"product_name\": \"Protein powder\", \"expiry\": \"19-01-2022\", \"price\": 567, \"category\": \"Supplement\", \"quantity\": 47}, \"11004\": {\"product_name\": \"Dettol Sanitizer\", \"expiry\": \"21-06-2023\", \"price\": 78, \"category\": \"Disinfectant\", \"quantity\": 100}, \"11005\": {\"product_name\": \"Thermometer\", \"expiry\": \"NA\", \"price\": 325, \"category\": \"Instrument\", \"quantity\": 30}, \"11006\": {\"product_name\": \"GluconD\", \"expiry\": \"15-03-2023\", \"price\": 68, \"category\": \"Energy powder\", \"quantity\": 55}, \"11007\": {\"product_name\": \"Vicks Inhaler\", \"expiry\": \"01-01-2023\", \"price\": 50, \"category\": \"OTC-Drug\", \"quantity\": 150}, \"11008\": {\"product_name\": \"Sanitary pads\", \"expiry\": \"19-09-2023\", \"price\": 200, \"category\": \"Essentials\", \"quantity\": 80}, \"11009\": {\"product_name\": \"Cough syrup\", \"expiry\": \"08-12-2021\", \"price\": 120, \"category\": \"OTC-Drug\", \"quantity\": 66}, \"110010\": {\"product_name\": \"Disprin\", \"expiry\": \"22-02-2023\", \"price\": 20, \"category\": \"OTC-Drug\", \"quantity\": 70}, \"110011\": {\"product_name\": \"Kit-kat\", \"expiry\": \"12-09-2022\", \"price\": 20, \"category\": \"Chocolate\", \"quantity\": 200}, \"110012\": {\"product_name\": \"Harpic\", \"expiry\": \"04-05-2023\", \"price\": 90, \"category\": \"Cleaner\", \"quantity\": 100}, \"110013\": {\"product_name\": \"Mortine Spray\", \"expiry\": \"19-01-2023\", \"price\": 134, \"category\": \"Cleaner\", \"quantity\": 124}, \"110014\": {\"product_name\": \"Pears\", \"expiry\": \"21-06-2024\", \"price\": 45, \"category\": \"Soap\", \"quantity\": 100}, \"110015\": {\"product_name\": \"Dove\", \"expiry\": \"01-01-2022\", \"price\": 56, \"category\": \"Soap\", \"quantity\": 130}, \"110016\": {\"product_name\": \"Lifeboy\", \"expiry\": \"15-03-2023\", \"price\": 30, \"category\": \"Soap\", \"quantity\": 155}, \"110017\": {\"product_name\": \"Herbal Bar\", \"expiry\": \"01-01-2023\", \"price\": 50, \"category\": \"Soap\", \"quantity\": 150}, \"110018\": {\"product_name\": \"Pantanjali Shampoo\", \"expiry\": \"19-09-2023\", \"price\": 100, \"category\": \"Shampoo\", \"quantity\": 180}, \"110019\": {\"product_name\": \"Mamaearth Hair Care\", \"expiry\": \"08-12-2021\", \"price\": 220, \"category\": \"Shampoo\", \"quantity\": 106}, \"110020\": {\"product_name\": \"Loreal\", \"expiry\": \"22-02-2023\", \"price\": 190, \"category\": \"Shampoo\", \"quantity\": 100}, \"110021\": {\"product_name\": \"Panteen\", \"expiry\": \"12-09-2022\", \"price\": 140, \"category\": \"Shampoo\", \"quantity\": 100}, \"110022\": {\"product_name\": \"Dove Shampoo\", \"expiry\": \"04-05-2023\", \"price\": 197, \"category\": \"Shampoo\", \"quantity\": 150}, \"110023\": {\"product_name\": \"Parle G\", \"expiry\": \"19-01-2022\", \"price\": 20, \"category\": \"Biscult\", \"quantity\": 147}, \"110024\": {\"product_name\": \"Cadbury Oreo\", \"expiry\": \"21-06-2023\", \"price\": 30, \"category\": \"Biscult\", \"quantity\": 100}, \"110025\": {\"product_name\": \"Unibic Choco Chip Cookies\", \"expiry\": \"21-09-22\", \"price\": 85, \"category\": \"Biscult\", \"quantity\": 130}, \"110026\": {\"product_name\": \"Sunfeast Cream Biscuits\", \"expiry\": \"15-03-2023\", \"price\": 28, \"category\": \"Biscult\", \"quantity\": 55}, \"110027\": {\"product_name\": \"Priya Gold Biscuit\", \"expiry\": \"01-01-2023\", \"price\": 30, \"category\": \"Biscult\", \"quantity\": 150}, \"110028\": {\"product_name\": \"Coke\", \"expiry\": \"19-09-2023\", \"price\": 60, \"category\": \"Cold Drinks\", \"quantity\": 100}, \"110029\": {\"product_name\": \"Fruity\", \"expiry\": \"08-12-2021\", \"price\": 60, \"category\": \"Cold Drinks\", \"quantity\": 100}, \"110030\": {\"product_name\": \"Fanta\", \"expiry\": \"22-02-2023\", \"price\": 60, \"category\": \"Cold Drinks\", \"quantity\": 100}, \"110031\": {\"product_name\": \"Swiss cheese\", \"expiry\": \"12-09-2022\", \"price\": 340, \"category\": \"Cheese\", \"quantity\": 100}, \"110032\": {\"product_name\": \"Parmesan\", \"expiry\": \"04-05-2023\", \"price\": 300, \"category\": \"Cheese\", \"quantity\": 50}, \"110033\": {\"product_name\": \"Cheddar\", \"expiry\": \"19-01-2022\", \"price\": 367, \"category\": \"Cheese\", \"quantity\": 47}, \"110034\": {\"product_name\": \"Mozzarella\", \"expiry\": \"21-06-2023\", \"price\": 278, \"category\": \"Cheese\", \"quantity\": 100}, \"110035\": {\"product_name\": \"Roquefort\", \"expiry\": \"12-09-2022\", \"price\": 325, \"category\": \"Cheese\", \"quantity\": 30}, \"110036\": {\"product_name\": \"Knoor\", \"expiry\": \"15-03-2023\", \"price\": 48, \"category\": \"Soups\", \"quantity\": 55}, \"110037\": {\"product_name\": \"Hot garlic\", \"expiry\": \"01-01-2023\", \"price\": 50, \"category\": \"Soups\", \"quantity\": 150}, \"110038\": {\"product_name\": \"Maggie\", \"expiry\": \"19-09-2023\", \"price\": 90, \"category\": \"Noodless\", \"quantity\": 80}, \"110039\": {\"product_name\": \"Sunfeast Yippee Noodles\", \"expiry\": \"08-12-2021\", \"price\": 90, \"category\": \"Noodles\", \"quantity\": 66}, \"110040\": {\"product_name\": \"Top Ramen\", \"expiry\": \"22-02-2023\", \"price\": 90, \"category\": \"Noodles\", \"quantity\": 70}, \"110041\": {\"product_name\": \"Ground pepper\", \"expiry\": \"12-09-2022\", \"price\": 45, \"category\": \"Seasoning and spices\", \"quantity\": 150}, \"110042\": {\"product_name\": \"Chili pepper\", \"expiry\": \"04-05-2023\", \"price\": 40, \"category\": \"Seasoning and spices\", \"quantity\": 150}, \"110043\": {\"product_name\": \"Parsley\", \"expiry\": \"19-01-2022\", \"price\": 67, \"category\": \"Seasoning and spices\", \"quantity\": 147}, \"110044\": {\"product_name\": \"Basil\", \"expiry\": \"21-06-2023\", \"price\": 58, \"category\": \"Seasoning and spices\", \"quantity\": 100}, \"110045\": {\"product_name\": \"Lemon peel\", \"expiry\": \"12-09-2022\", \"price\": 105, \"category\": \"Seasoning and spices\", \"quantity\": 130}, \"110046\": {\"product_name\": \"Oregano\", \"expiry\": \"15-03-2023\", \"price\": 68, \"category\": \"Seasoning and spices\", \"quantity\": 155}, \"110047\": {\"product_name\": \"Sea Salt\", \"expiry\": \"01-01-2023\", \"price\": 50, \"category\": \"Seasoning and spices\", \"quantity\": 150}, \"110048\": {\"product_name\": \"Thyme\", \"expiry\": \"19-09-2023\", \"price\": 80, \"category\": \"Seasoning and spices\", \"quantity\": 60}, \"110049\": {\"product_name\": \"Garlic powder\", \"expiry\": \"08-12-2021\", \"price\": 120, \"category\": \"Seasoning and spices\", \"quantity\": 166}, \"110050\": {\"product_name\": \"Cardamom\", \"expiry\": \"22-02-2023\", \"price\": 120, \"category\": \"Seasoning and spices\", \"quantity\": 170}}\n"
     ]
    }
   ],
   "source": [
    "product_detail = json.loads(txt)\n",
    "print(txt)"
   ]
  },
  {
   "cell_type": "markdown",
   "id": "53875e85",
   "metadata": {},
   "source": [
    "# Part 2 of the Project\n",
    "\n",
    "### Objective:   Showing user the product id and name of product<hr>\n"
   ]
  },
  {
   "cell_type": "code",
   "execution_count": 11,
   "id": "1ecdbfe1",
   "metadata": {},
   "outputs": [
    {
     "name": "stdout",
     "output_type": "stream",
     "text": [
      "***************Product List******************\n",
      " \n",
      "     Product Id        Product Name\n",
      " \n",
      "----------------------------------------\n",
      "      11001           Paracetamol\n",
      "----------------------------------------\n",
      "      11002           Dettol\n",
      "----------------------------------------\n",
      "      11003           Protein powder\n",
      "----------------------------------------\n",
      "      11004           Dettol Sanitizer\n",
      "----------------------------------------\n",
      "      11005           Thermometer\n",
      "----------------------------------------\n",
      "      11006           GluconD\n",
      "----------------------------------------\n",
      "      11007           Vicks Inhaler\n",
      "----------------------------------------\n",
      "      11008           Sanitary pads\n",
      "----------------------------------------\n",
      "      11009           Cough syrup\n",
      "----------------------------------------\n",
      "      110010           Disprin\n",
      "----------------------------------------\n",
      "      110011           Kit-kat\n",
      "----------------------------------------\n",
      "      110012           Harpic\n",
      "----------------------------------------\n",
      "      110013           Mortine Spray\n",
      "----------------------------------------\n",
      "      110014           Pears\n",
      "----------------------------------------\n",
      "      110015           Dove\n",
      "----------------------------------------\n",
      "      110016           Lifeboy\n",
      "----------------------------------------\n",
      "      110017           Herbal Bar\n",
      "----------------------------------------\n",
      "      110018           Pantanjali Shampoo\n",
      "----------------------------------------\n",
      "      110019           Mamaearth Hair Care\n",
      "----------------------------------------\n",
      "      110020           Loreal\n",
      "----------------------------------------\n",
      "      110021           Panteen\n",
      "----------------------------------------\n",
      "      110022           Dove Shampoo\n",
      "----------------------------------------\n",
      "      110023           Parle G\n",
      "----------------------------------------\n",
      "      110024           Cadbury Oreo\n",
      "----------------------------------------\n",
      "      110025           Unibic Choco Chip Cookies\n",
      "----------------------------------------\n",
      "      110026           Sunfeast Cream Biscuits\n",
      "----------------------------------------\n",
      "      110027           Priya Gold Biscuit\n",
      "----------------------------------------\n",
      "      110028           Coke\n",
      "----------------------------------------\n",
      "      110029           Fruity\n",
      "----------------------------------------\n",
      "      110030           Fanta\n",
      "----------------------------------------\n",
      "      110031           Swiss cheese\n",
      "----------------------------------------\n",
      "      110032           Parmesan\n",
      "----------------------------------------\n",
      "      110033           Cheddar\n",
      "----------------------------------------\n",
      "      110034           Mozzarella\n",
      "----------------------------------------\n",
      "      110035           Roquefort\n",
      "----------------------------------------\n",
      "      110036           Knoor\n",
      "----------------------------------------\n",
      "      110037           Hot garlic\n",
      "----------------------------------------\n",
      "      110038           Maggie\n",
      "----------------------------------------\n",
      "      110039           Sunfeast Yippee Noodles\n",
      "----------------------------------------\n",
      "      110040           Top Ramen\n",
      "----------------------------------------\n",
      "      110041           Ground pepper\n",
      "----------------------------------------\n",
      "      110042           Chili pepper\n",
      "----------------------------------------\n",
      "      110043           Parsley\n",
      "----------------------------------------\n",
      "      110044           Basil\n",
      "----------------------------------------\n",
      "      110045           Lemon peel\n",
      "----------------------------------------\n",
      "      110046           Oregano\n",
      "----------------------------------------\n",
      "      110047           Sea Salt\n",
      "----------------------------------------\n",
      "      110048           Thyme\n",
      "----------------------------------------\n",
      "      110049           Garlic powder\n",
      "----------------------------------------\n",
      "      110050           Cardamom\n",
      "----------------------------------------\n",
      "\n",
      "***************Product List******************\n"
     ]
    }
   ],
   "source": [
    "# Showing the user the id and the product name\n",
    "\n",
    "print(\"***************Product List******************\")\n",
    "print(\" \")\n",
    "\n",
    "print(f\"{'  ' : <5}{'Product Id' : <15}{'Product Name' : >15}\")\n",
    "print(\" \")\n",
    "\n",
    "for i in product_detail:\n",
    "    print(\"----------------------------------------\")\n",
    "    print( '     ',i, end=\"           \") \n",
    "    print(product_detail[i]['product_name'])\n",
    "print(\"----------------------------------------\")\n",
    "    \n",
    "    \n",
    "print(\"\")\n",
    "print(\"***************Product List******************\")    \n"
   ]
  },
  {
   "cell_type": "markdown",
   "id": "78b50c6c",
   "metadata": {},
   "source": [
    "# 3rd Part of the Project\n",
    "\n",
    "### Objective: To take inputs from user and generate a bill<hr>"
   ]
  },
  {
   "cell_type": "code",
   "execution_count": 12,
   "id": "3e373c4a",
   "metadata": {},
   "outputs": [],
   "source": [
    "def Merge(dict1, dict2):\n",
    "    return(dict2.update(dict1))\n"
   ]
  },
  {
   "cell_type": "code",
   "execution_count": 13,
   "id": "891f0138",
   "metadata": {},
   "outputs": [],
   "source": [
    "import time"
   ]
  },
  {
   "cell_type": "code",
   "execution_count": 15,
   "id": "9c869f0f",
   "metadata": {
    "scrolled": true
   },
   "outputs": [
    {
     "name": "stdout",
     "output_type": "stream",
     "text": [
      "Welcome dear customer!! Please refer the above display to get the product id of product you want to purchase.\n",
      " \n",
      "Enter done in the id once you finish shopping, to generate the bill\n",
      " \n",
      "Enter the product id (or done if want to generate bill): 110020\n",
      " \n",
      "******* Product Detail *********\n",
      " \n",
      "Product Name:  Loreal\n",
      "Price:  190\n",
      "Category:  Shampoo\n",
      " \n",
      "*******************************\n",
      " \n",
      "Enter the quantity of product: 2\n",
      "2 Loreal  added in your cart\n",
      " \n",
      "Enter the product id (or done if want to generate bill): 110028\n",
      " \n",
      "******* Product Detail *********\n",
      " \n",
      "Product Name:  Coke\n",
      "Price:  60\n",
      "Category:  Cold Drinks\n",
      " \n",
      "*******************************\n",
      " \n",
      "Enter the quantity of product: 4\n",
      "4 Coke  added in your cart\n",
      " \n",
      "Enter the product id (or done if want to generate bill): 110045\n",
      " \n",
      "******* Product Detail *********\n",
      " \n",
      "Product Name:  Lemon peel\n",
      "Price:  105\n",
      "Category:  Seasoning and spices\n",
      " \n",
      "*******************************\n",
      " \n",
      "Enter the quantity of product: 5\n",
      "5 Lemon peel  added in your cart\n",
      " \n",
      "Enter the product id (or done if want to generate bill): 11001\n",
      " \n",
      "******* Product Detail *********\n",
      " \n",
      "Product Name:  Paracetamol\n",
      "Price:  40\n",
      "Category:  OTC-Drug\n",
      " \n",
      "*******************************\n",
      " \n",
      "Enter the quantity of product: 2\n",
      "2 Paracetamol  added in your cart\n",
      " \n",
      "Enter the product id (or done if want to generate bill): 110047\n",
      " \n",
      "******* Product Detail *********\n",
      " \n",
      "Product Name:  Sea Salt\n",
      "Price:  50\n",
      "Category:  Seasoning and spices\n",
      " \n",
      "*******************************\n",
      " \n",
      "Enter the quantity of product: 1\n",
      "1 Sea Salt  added in your cart\n",
      " \n",
      "Enter the product id (or done if want to generate bill): done\n",
      " \n",
      "**********************\n",
      "Total Bill: 1211.25\n",
      "**********************\n",
      " \n",
      "🙏🙏Thank you for shopping with us!\n",
      "Hope to see you again 🙏🙏\n",
      " \n",
      "Do you want to print the bill? Type Yes or No: Yes\n",
      " \n",
      "----------------------------------------------------------------------------------------------------------------\n",
      "Product Name                      Category            Market Price     Our Price      Quantity       Total\n",
      "----------------------------------------------------------------------------------------------------------------\n",
      " \n",
      "Loreal                            Shampoo                   190         180.5            2          361.0\n",
      " \n",
      "Coke                            Cold Drinks                  60          57.0            4          228.0\n",
      " \n",
      "Lemon peel                  Seasoning and spices            105         99.75            5         498.75\n",
      " \n",
      "Paracetamol                       OTC-Drug                   40          38.0            2           76.0\n",
      " \n",
      "Sea Salt                    Seasoning and spices             50          47.5            1           47.5\n",
      " \n",
      "                                                                                      Total Bill: 1211.25\n",
      "                                                                                      Sat Sep  4 01:19:58 2021    \n",
      "----------------------------------------------------------------------------------------------------------------\n"
     ]
    }
   ],
   "source": [
    "print(\"Welcome dear customer!! Please refer the above display to get the product id of product you want to purchase.\")\n",
    "print(\" \")\n",
    "print(\"Enter done in the id once you finish shopping, to generate the bill\")\n",
    "print(\" \")\n",
    "total_bill = 0\n",
    "product_purchased = list()\n",
    "dict1 = {}\n",
    "\n",
    "try:\n",
    "    while True:\n",
    "        product_id = input(\"Enter the product id (or done if want to generate bill): \")\n",
    "        price = product_detail[product_id]['price']\n",
    "        p_name = product_detail[product_id]['product_name']\n",
    "        p_category = product_detail[product_id]['category']\n",
    "        \n",
    "        print(\" \")\n",
    "        print(\"******* Product Detail *********\")\n",
    "        print(\" \")\n",
    "        print(\"Product Name: \",p_name)\n",
    "        print(\"Price: \", price)\n",
    "        print(\"Category: \", p_category)\n",
    "        print(\" \")\n",
    "        print(\"*******************************\")\n",
    "        print(\" \")\n",
    "\n",
    "        quan = int(input(\"Enter the quantity of product: \"))\n",
    "        print(quan, product_detail[product_id]['product_name'],\" added in your cart\")\n",
    "        \n",
    "        discount_price = round(price - (price * 0.05),2)\n",
    "        current_bill = round(discount_price * quan,2)\n",
    "        \n",
    "        \n",
    "        quan_left = product_detail[product_id]['quantity'] - quan \n",
    "        product_detail[product_id]['quantity'] = quan_left\n",
    "        \n",
    "        value = product_detail[product_id]\n",
    "        dict1[product_id] =  value\n",
    "        # print(dict1)\n",
    "        \n",
    "        product_purchased.append(f\"{p_name:<25}{p_category:^26}{price:>12}{discount_price:>14}{quan:>13}{current_bill:>15}\")\n",
    "        print(\" \")\n",
    "        \n",
    "        total_bill += current_bill\n",
    "\n",
    "        \n",
    "except:\n",
    "    print(\" \")\n",
    "    print(\"**********************\")\n",
    "    print(\"Total Bill: {:.2f}\".format(total_bill))\n",
    "    print(\"**********************\")\n",
    "    print(\" \")\n",
    "    print(\"🙏🙏Thank you for shopping with us!\")\n",
    "    print(\"Hope to see you again 🙏🙏\")\n",
    "    print(\" \")\n",
    "    print_bill = input(\"Do you want to print the bill? Type Yes or No: \")\n",
    "    print(\" \")\n",
    "\n",
    "\n",
    "    if print_bill.lower() == \"yes\":\n",
    "        print(\"----------------------------------------------------------------------------------------------------------------\")\n",
    "        print(f\"{'Product Name':<25}{'Category':^26}{'Market Price':>15}{'Our Price':>14}{'Quantity':>14}{'Total':>12}\")\n",
    "        print(\"----------------------------------------------------------------------------------------------------------------\")\n",
    "\n",
    "        print(\" \")\n",
    "        for item in product_purchased:\n",
    "            print(item)\n",
    "            print(\" \")\n",
    "        print(\"                                                                                      Total Bill: {:.2f}\\n                                                                                      {}    \".format(total_bill,time.ctime()))\n",
    "        print(\"----------------------------------------------------------------------------------------------------------------\")              \n",
    "    else:\n",
    "        print(\"Happy Shopping.\")\n",
    "\n"
   ]
  },
  {
   "cell_type": "markdown",
   "id": "ad9cf797",
   "metadata": {},
   "source": [
    "# Part 4 of the Project\n",
    "### Objective: To update the inventory in the json file as user purchases something"
   ]
  },
  {
   "cell_type": "code",
   "execution_count": 16,
   "id": "8b6d833c",
   "metadata": {},
   "outputs": [
    {
     "data": {
      "text/plain": [
       "{'110020': {'product_name': 'Loreal',\n",
       "  'expiry': '22-02-2023',\n",
       "  'price': 190,\n",
       "  'category': 'Shampoo',\n",
       "  'quantity': 98},\n",
       " '110028': {'product_name': 'Coke',\n",
       "  'expiry': '19-09-2023',\n",
       "  'price': 60,\n",
       "  'category': 'Cold Drinks',\n",
       "  'quantity': 96},\n",
       " '110045': {'product_name': 'Lemon peel',\n",
       "  'expiry': '12-09-2022',\n",
       "  'price': 105,\n",
       "  'category': 'Seasoning and spices',\n",
       "  'quantity': 125},\n",
       " '11001': {'product_name': 'Paracetamol',\n",
       "  'expiry': '12-09-2022',\n",
       "  'price': 40,\n",
       "  'category': 'OTC-Drug',\n",
       "  'quantity': 98},\n",
       " '110047': {'product_name': 'Sea Salt',\n",
       "  'expiry': '01-01-2023',\n",
       "  'price': 50,\n",
       "  'category': 'Seasoning and spices',\n",
       "  'quantity': 149}}"
      ]
     },
     "execution_count": 16,
     "metadata": {},
     "output_type": "execute_result"
    }
   ],
   "source": [
    "dict1"
   ]
  },
  {
   "cell_type": "code",
   "execution_count": 19,
   "id": "15762858",
   "metadata": {},
   "outputs": [],
   "source": [
    "js = json.dumps(dict1)\n",
    "fd = open(\"Sales.json\",'w')\n",
    "fd.write(js)\n",
    "fd.close()"
   ]
  },
  {
   "cell_type": "code",
   "execution_count": 20,
   "id": "cc03d112",
   "metadata": {},
   "outputs": [
    {
     "data": {
      "text/plain": [
       "'{\"110020\": {\"product_name\": \"Loreal\", \"expiry\": \"22-02-2023\", \"price\": 190, \"category\": \"Shampoo\", \"quantity\": 98}, \"110028\": {\"product_name\": \"Coke\", \"expiry\": \"19-09-2023\", \"price\": 60, \"category\": \"Cold Drinks\", \"quantity\": 96}, \"110045\": {\"product_name\": \"Lemon peel\", \"expiry\": \"12-09-2022\", \"price\": 105, \"category\": \"Seasoning and spices\", \"quantity\": 125}, \"11001\": {\"product_name\": \"Paracetamol\", \"expiry\": \"12-09-2022\", \"price\": 40, \"category\": \"OTC-Drug\", \"quantity\": 98}, \"110047\": {\"product_name\": \"Sea Salt\", \"expiry\": \"01-01-2023\", \"price\": 50, \"category\": \"Seasoning and spices\", \"quantity\": 149}}'"
      ]
     },
     "execution_count": 20,
     "metadata": {},
     "output_type": "execute_result"
    }
   ],
   "source": [
    "js"
   ]
  },
  {
   "cell_type": "code",
   "execution_count": 21,
   "id": "4e3050ce",
   "metadata": {},
   "outputs": [],
   "source": [
    "fd = open(\"Sales.json\", 'r')\n",
    "data = fd.read()\n",
    "fd.close()\n",
    "\n",
    "js = json.dumps(dict1)\n",
    "fd = open(\"Sales_file.txt\",\"w\")\n",
    "fd.write(js)\n",
    "fd.close()"
   ]
  },
  {
   "cell_type": "code",
   "execution_count": 22,
   "id": "990dca4a",
   "metadata": {},
   "outputs": [
    {
     "data": {
      "text/plain": [
       "'{\"110020\": {\"product_name\": \"Loreal\", \"expiry\": \"22-02-2023\", \"price\": 190, \"category\": \"Shampoo\", \"quantity\": 98}, \"110028\": {\"product_name\": \"Coke\", \"expiry\": \"19-09-2023\", \"price\": 60, \"category\": \"Cold Drinks\", \"quantity\": 96}, \"110045\": {\"product_name\": \"Lemon peel\", \"expiry\": \"12-09-2022\", \"price\": 105, \"category\": \"Seasoning and spices\", \"quantity\": 125}, \"11001\": {\"product_name\": \"Paracetamol\", \"expiry\": \"12-09-2022\", \"price\": 40, \"category\": \"OTC-Drug\", \"quantity\": 98}, \"110047\": {\"product_name\": \"Sea Salt\", \"expiry\": \"01-01-2023\", \"price\": 50, \"category\": \"Seasoning and spices\", \"quantity\": 149}}'"
      ]
     },
     "execution_count": 22,
     "metadata": {},
     "output_type": "execute_result"
    }
   ],
   "source": [
    "js"
   ]
  },
  {
   "cell_type": "code",
   "execution_count": 23,
   "id": "289b9d0f",
   "metadata": {},
   "outputs": [],
   "source": [
    "fd = open(\"Sales_file.txt\", 'r')\n",
    "t = fd.read()\n",
    "fd.close()"
   ]
  },
  {
   "cell_type": "code",
   "execution_count": 24,
   "id": "8e75c9d6",
   "metadata": {},
   "outputs": [],
   "source": [
    "total_data = json.loads(t)"
   ]
  },
  {
   "cell_type": "code",
   "execution_count": 25,
   "id": "8d0a9a59",
   "metadata": {},
   "outputs": [
    {
     "data": {
      "text/plain": [
       "{'110020': {'product_name': 'Loreal',\n",
       "  'expiry': '22-02-2023',\n",
       "  'price': 190,\n",
       "  'category': 'Shampoo',\n",
       "  'quantity': 98},\n",
       " '110028': {'product_name': 'Coke',\n",
       "  'expiry': '19-09-2023',\n",
       "  'price': 60,\n",
       "  'category': 'Cold Drinks',\n",
       "  'quantity': 96},\n",
       " '110045': {'product_name': 'Lemon peel',\n",
       "  'expiry': '12-09-2022',\n",
       "  'price': 105,\n",
       "  'category': 'Seasoning and spices',\n",
       "  'quantity': 125},\n",
       " '11001': {'product_name': 'Paracetamol',\n",
       "  'expiry': '12-09-2022',\n",
       "  'price': 40,\n",
       "  'category': 'OTC-Drug',\n",
       "  'quantity': 98},\n",
       " '110047': {'product_name': 'Sea Salt',\n",
       "  'expiry': '01-01-2023',\n",
       "  'price': 50,\n",
       "  'category': 'Seasoning and spices',\n",
       "  'quantity': 149}}"
      ]
     },
     "execution_count": 25,
     "metadata": {},
     "output_type": "execute_result"
    }
   ],
   "source": [
    "total_data"
   ]
  },
  {
   "cell_type": "code",
   "execution_count": null,
   "id": "6ec0a9c5",
   "metadata": {},
   "outputs": [],
   "source": []
  },
  {
   "cell_type": "code",
   "execution_count": null,
   "id": "dfb798bc",
   "metadata": {},
   "outputs": [],
   "source": []
  }
 ],
 "metadata": {
  "kernelspec": {
   "display_name": "Python 3",
   "language": "python",
   "name": "python3"
  },
  "language_info": {
   "codemirror_mode": {
    "name": "ipython",
    "version": 3
   },
   "file_extension": ".py",
   "mimetype": "text/x-python",
   "name": "python",
   "nbconvert_exporter": "python",
   "pygments_lexer": "ipython3",
   "version": "3.8.8"
  }
 },
 "nbformat": 4,
 "nbformat_minor": 5
}
